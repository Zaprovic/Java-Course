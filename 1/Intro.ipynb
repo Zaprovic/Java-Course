{
 "cells": [
  {
   "attachments": {},
   "cell_type": "markdown",
   "metadata": {},
   "source": [
    "# \n",
    "**<center><p style = 'font-size:50pt'> Object Oriented Programming </p></center>** \n",
    "\n",
    "Object oriented programming (OOP) is a type of programming that uses classes as its main wat to implement code. There are 4 main pilars that one has to know:\n",
    "\n",
    " **<p style='color:green'>1. Abstraction</p>** It means to only show the necessary details from an object to the user. Whenever creating a class and objects associated to it, that have functions or methods to make operations between the objects, an user wants to manipulate those objects in an easy way, without too much information requiered. For example, if someone is creating a car class, what really might be important are the implementations and functions that a car can do, rather than all the internal process needed to make the car work. \n",
    "\n",
    "---\n",
    " **<p style='color:green'>2. Inheritance</p>** \n",
    "Is when there is a class that belong to the same type of a major class. For example, we can have a shape class, but there are many different shapes, such as circles, triangles or squares. All of this subclasses are *inherited* from the main shape class. Other common names that subclasses receives are *child* and *extended* class, and the super class is also known as *base* or *parent* class.\n",
    "\n",
    "---\n",
    " **<p style='color:green'>3. Polymorphism</p>** \n",
    "\n",
    "Useful to determine what kind of functions to run while the program is running. Lets say there is a parent class named `Enemy`, and there are two child classes named `vampire` and `werewolf` that inherite from `Enemy`.\n",
    "\n",
    "The class `Enemy` can have a method that prints a message (let's supposed the method's name is `printMessage()`) like 'I am going to kill you'. But we can override this method for both of the child classes in order to print something different, for example, for the `vampire` the method prints 'I will suck your blood`; and for the werewolf it print 'I will bite you'.\n",
    "\n",
    "If we create and `vampire` and `werewolf` object named `vampire1` and `werewolf1` respectively, call this method in both of them, the output message will be the respective phrase associated to the type of enemy. But if we create an **`Enemy`** object and set it equal to either `vampire1` or `werewolf1` and then call the `printMessage()` method, the output is going to correspond to whatever the method returns depending if the enemy of type werewolf of vampire, instead of returning 'I am going to kill you'.\n",
    "\n",
    "But of course if we create an `Enemy` object called `enemy1`, and then call `printMessage`, the output will be 'I am going to kill you'. This is what polymorphism is all about. It is to indentify an override method from a parent class so it can return whatever it is associated to.\n",
    "\n",
    "---\n",
    " **<p style='color:green'>4. Encapsulation</p>** \n",
    "It is when we hide data to the user, by restricting acces of some methods and fields of a class. This is sometimes good practica since having the user able to declare and modify some of the fields defined in a class might end up screwing up the output of a code, or yield inconsistencies. \n",
    "\n",
    "---\n",
    "\n",
    "\n"
   ]
  },
  {
   "attachments": {},
   "cell_type": "markdown",
   "metadata": {},
   "source": [
    "## **<p style = 'color: orange'> Abstraction </p>**\n",
    "\n",
    "Abstraction can be achieved in multiple ways. In Java for example, there are very natural ways to implement this by using the concept of *abstract classes* and *interfaces*\n",
    "\n",
    "**Abstract class:** These type of classes have a partial implementation, which means that they cannot be instantied (you will not be able to create objects of that class). This make sense when dealing with parent classes, something it will make a lot more sense to create objects of whatever the child classes are, but not objects from the parent class, since it can be confusing. \n",
    "\n",
    "        public abstract class Country{\n",
    "            int population;\n",
    "            String name;\n",
    "            String language;\n",
    "\n",
    "            public abstract void fifaCode();\n",
    "\n",
    "            public String printLanguage(){\n",
    "                return \"Here in \" + name + \" we speak \" + language;\n",
    "            }\n",
    "\n",
    "        }\n",
    "\n",
    "In the code above, there is a class named `Country`. For this case it is much better to make it abstract, since creating language objects is ambigous (what country is it?). Inside an abstract class we can have abstract methods as well, not all of them have to be, just the ones we want. The purpose of an abstract method is the exact same for an abstract class. In this case, the method `fifaCode()` is also better making it abstract, because every country has an unique FIFA code. These methods don't need any body, just a declaration, but keep in mind that *abstract methods must be overriden in any of the child classes that implement the parent class.\n",
    "\n",
    "        public class Croatia extends Country implements Nation, Territory{\n",
    "            \n",
    "            @Override\n",
    "            public void fifaCode(){\n",
    "                System.out.println(\"CRO\")\n",
    "            }\n",
    "        }\n",
    "\n",
    "\n",
    "        public class Brazil extends Country{\n",
    "\n",
    "            @Override\n",
    "            public void fifaCode(){\n",
    "                System.out.println(\"BRA\")\n",
    "            }\n",
    "        }\n",
    "\n",
    "        public class Morocco extends Country{\n",
    "\n",
    "            @Override\n",
    "            public void fifaCode(){\n",
    "                System.out.println(\"MAR\")\n",
    "            }\n",
    "        }\n",
    "\n",
    "From the code above, we can only create `Croatia`, `Brazil` and `Morocco` objects, since all of this are child classes that inherit from `Country` which is the parent class. As noted in the parent class, every animal has the fields of age and name, and an abstract method used to specify what sound the type of animal does.\n",
    "\n",
    "        public class Nation{\n",
    "            int population;\n",
    "            String name;\n",
    "        }\n",
    "\n",
    "        public interface Nation{\n",
    "            public void nationality();\n",
    "        }\n",
    "\n",
    "        public interface Territory{\n",
    "            public void nationalAnthemName();\n",
    "\n",
    "\n",
    "        }\n",
    "\n",
    "**Interface:** This is a special kind of class in which every method will always be abstract. This does the exact same thing as an abstract would do in a particular abstract method, so what is the difference? The main difference is that *you can implement as many interfaces as you want, but only extend one class*. This means that there is no way to extend for example the `Morocco` class to both `Country` and `Nation`, it is either one or another.\n",
    "\n",
    "In the example above we see that the class `Croatia` has implementations of `Nation` and `Territory`, but only extends `Country`. It cannot be extended to any other class.\n",
    "\n",
    "One last important thing is that in an implementation, *every field that is declared will always be static and final*. Which means that it's not enough just by declaring a field in an implementation, it must also have an assigned value.\n",
    "\n",
    "\n",
    "\n",
    "\n",
    "\n",
    "\n",
    "\n",
    "\n"
   ]
  },
  {
   "cell_type": "code",
   "execution_count": 1,
   "metadata": {},
   "outputs": [
    {
     "name": "stdout",
     "output_type": "stream",
     "text": [
      "Current device: cuda\n"
     ]
    }
   ],
   "source": [
    "import torch\n",
    "import numpy as np\n",
    "\n",
    "device = 'cuda' if torch.cuda.is_available() else 'cpu'\n",
    "print(f'Current device: {device}')"
   ]
  }
 ],
 "metadata": {
  "kernelspec": {
   "display_name": "Python 3",
   "language": "python",
   "name": "python3"
  },
  "language_info": {
   "codemirror_mode": {
    "name": "ipython",
    "version": 3
   },
   "file_extension": ".py",
   "mimetype": "text/x-python",
   "name": "python",
   "nbconvert_exporter": "python",
   "pygments_lexer": "ipython3",
   "version": "3.10.7"
  },
  "orig_nbformat": 4,
  "vscode": {
   "interpreter": {
    "hash": "530437c77c0ef3adadbfe4ac4a51a22a280df17b901a9bafc88e0f2e58c6a7da"
   }
  }
 },
 "nbformat": 4,
 "nbformat_minor": 2
}
