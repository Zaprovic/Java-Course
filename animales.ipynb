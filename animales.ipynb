{
 "cells": [
  {
   "attachments": {},
   "cell_type": "markdown",
   "metadata": {},
   "source": [
    "# Ejercicio 1\n",
    "\n",
    "Responder:\n",
    "\n",
    "1. Cuantas clases se estan definiendo en el ejercicio:\n",
    "    - Se estan definiendo 3 clases: Animal, Familia y FamiliaAnimales. \n",
    "\n",
    "\n",
    "---\n",
    "    \n",
    "2. En cual clase se define el programa principal\n",
    "    - Se define en la clase `FamiliaAnimales`, ya que ahi es donde esta la driver class\n",
    "\n",
    "---\n",
    "\n",
    "    \n",
    "3. Cuantos objetos de la clase `Animal` se estan creando en la clase que define el programa principal\n",
    "    - Se crean dos instancias llamadas `animal1` y `animal2`\n",
    "\n",
    "---\n",
    "\n",
    "4. Cuales objetos se estan creando de la clase `Animal` en la clase que define el programa principal\n",
    "    - `animal1` y `animal2`\n",
    "--- \n",
    "\n",
    "5. Cuales atributos tiene la clase `Animal`\n",
    "    - `nombre`\n",
    "    - `genero`\n",
    "    - `peso`\n",
    "    - `pareja`\n",
    "    - `totalAnimales`\n",
    "\n",
    "---\n",
    " 6. Cuales atributos de la clase `Animal` estan haciendo referencia a tipos primitivos\n",
    "    - Todos menos `pareja`\n",
    "\n",
    "\n",
    "---\n",
    "\n",
    "7. Cuales atributos de la clase `Animal` hacen referencia a objetos\n",
    "    - `pareja`\n",
    "\n",
    "---"
   ]
  }
 ],
 "metadata": {
  "kernelspec": {
   "display_name": "Python 3",
   "language": "python",
   "name": "python3"
  },
  "language_info": {
   "name": "python",
   "version": "3.10.7 (tags/v3.10.7:6cc6b13, Sep  5 2022, 14:08:36) [MSC v.1933 64 bit (AMD64)]"
  },
  "orig_nbformat": 4,
  "vscode": {
   "interpreter": {
    "hash": "530437c77c0ef3adadbfe4ac4a51a22a280df17b901a9bafc88e0f2e58c6a7da"
   }
  }
 },
 "nbformat": 4,
 "nbformat_minor": 2
}
