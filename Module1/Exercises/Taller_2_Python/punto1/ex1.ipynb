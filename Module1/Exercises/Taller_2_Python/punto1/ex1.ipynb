{
 "cells": [
  {
   "attachments": {},
   "cell_type": "markdown",
   "metadata": {},
   "source": [
    "# **Ejercicio 1**\n",
    "\n",
    "1. Cuantas clases se estan definiendo en el ejercicio\n",
    "    - Se definen 3 clases: `Apostador`, `ComisionJuegoEspectaculos` y `Loteria`\n",
    "---\n",
    "\n",
    "2. Para que sirve la linea de codigo `if __name__ == \"__main__\"`\n",
    "    - Sirve para hacer enfasis en la distincion entre un script y un archivo. Un script es una serie de lineas de codigo que se pueden ejecutar mediante el compilador de Python, mientras que un archivo no necesariamente tiene que ejecutarse, como por ejemplo una libreria, o un metodo. Este tipo de codigos solo sirven para definir ciertas funciones que al importarse a un script pueden ser ejecutadas.\n",
    "\n",
    "        Siempre que en un archivo se vea esta linea, se indica que se trata de un script y por ende debe ejecutarse, mientras que en aquellos en donde no exista se asume que son librerias o modulos.\n",
    "\n",
    "---\n",
    "3. Que pasa si se quita la linea anterior del codigo\n",
    "    - El codigo se ejecutara con normalidad y funcionara, mas sin embargo es buena practica usar esta linea de codigo ya que permite evitar errores como algun 'typo' que exista dentro de un archivo importado\n",
    "\n",
    "---\n",
    "4. Cuantos objetos de la clase `Apostador` se estan creando\n",
    "    - Se crearon dos objetos: `apostador1` y `apostador2`\n",
    "\n",
    "---\n",
    "5. A quien  hace referencia la variable `self` de la linea 15 de la clase `Apostador` cuando se ejecuta el programa principal\n",
    "    - d\n"
   ]
  },
  {
   "cell_type": "code",
   "execution_count": 1,
   "metadata": {},
   "outputs": [],
   "source": [
    "import numpy as np\n"
   ]
  },
  {
   "cell_type": "markdown",
   "metadata": {},
   "source": []
  }
 ],
 "metadata": {
  "kernelspec": {
   "display_name": "Python 3",
   "language": "python",
   "name": "python3"
  },
  "language_info": {
   "codemirror_mode": {
    "name": "ipython",
    "version": 3
   },
   "file_extension": ".py",
   "mimetype": "text/x-python",
   "name": "python",
   "nbconvert_exporter": "python",
   "pygments_lexer": "ipython3",
   "version": "3.10.7"
  },
  "orig_nbformat": 4,
  "vscode": {
   "interpreter": {
    "hash": "530437c77c0ef3adadbfe4ac4a51a22a280df17b901a9bafc88e0f2e58c6a7da"
   }
  }
 },
 "nbformat": 4,
 "nbformat_minor": 2
}
