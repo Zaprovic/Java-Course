{
 "cells": [
  {
   "attachments": {},
   "cell_type": "markdown",
   "metadata": {},
   "source": [
    "# **Ejercicio 1**\n",
    "\n",
    "Responder:\n",
    "\n",
    "1. Cuantas clases se estan definiendo en el ejercicio:\n",
    "    - Se estan definiendo 3 clases: `Animal`, `Familia` y `FamiliaAnimales`. \n",
    "\n",
    "\n",
    "---\n",
    "    \n",
    "2. En cual clase se define el programa principal\n",
    "    - Se define en la clase `FamiliaAnimales`, ya que ahi es donde esta la driver class\n",
    "\n",
    "---\n",
    "\n",
    "    \n",
    "3. Cuantos objetos de la clase `Animal` se estan creando en la clase que define el programa principal\n",
    "    - Se crean dos instancias llamadas `animal1` y `animal2`\n",
    "\n",
    "---\n",
    "\n",
    "4. Cuales objetos se estan creando de la clase `Animal` en la clase que define el programa principal\n",
    "    - `animal1` y `animal2`\n",
    "--- \n",
    "\n",
    "5. Cuales atributos tiene la clase `Animal`\n",
    "    - `nombre`\n",
    "    - `genero`\n",
    "    - `peso`\n",
    "    - `pareja`\n",
    "    - `totalAnimales`\n",
    "\n",
    "---\n",
    " 6. Cuales atributos de la clase `Animal` estan haciendo referencia a tipos primitivos\n",
    "    - Todos menos `pareja`\n",
    "\n",
    "\n",
    "---\n",
    "\n",
    "7. Cuales atributos de la clase `Animal` hacen referencia a objetos\n",
    "    - `pareja`\n",
    "\n",
    "---\n",
    "\n",
    "8. Con que valor se inicializa el atributo `pareja` de la clase `Animal`\n",
    "    - Se inicializa con el nombre que se le asigne dentro del metodo `setPareja`\n",
    "---\n",
    "\n",
    "9. Cual es el valor del atributo nombre que tienen los objetos `animal1` y `animal2` **antes de la linea 7** en la clase `FamiliaAnimales`\n",
    "    - Antes de ejecutarse la linea 7 en la clase `FamiliaAnimales`, se crean dos instancias de la clase `Animal`, que por defecto esta establecido como `null` ya que se el atributo nombre es de tipo objeto (String en este caso)\n",
    "\n",
    "---\n",
    "\n",
    "10. Cual es el valor del atributo peso de `animal1` en la clase `FamiliaAnimales`   \n",
    "    - Este valor no se inicializo con una cantidad numerica especifica, ademas se trata de una variable de tipo primitivo por lo que su valor por defecto es `0`\n",
    "\n",
    "---\n",
    "11. Cual es el valor del atributo genero de `animal2` en la clase `FamiliaAnimales`\n",
    "    - Al no establecerse un valor dentro de esta clase, se pondra por defecto el establecido en la clase `Animal`, el cual era igual a `\"M\"`\n",
    "\n",
    "---\n",
    "\n"
   ]
  }
 ],
 "metadata": {
  "kernelspec": {
   "display_name": "Python 3",
   "language": "python",
   "name": "python3"
  },
  "language_info": {
   "name": "python",
   "version": "3.10.7 (tags/v3.10.7:6cc6b13, Sep  5 2022, 14:08:36) [MSC v.1933 64 bit (AMD64)]"
  },
  "orig_nbformat": 4,
  "vscode": {
   "interpreter": {
    "hash": "530437c77c0ef3adadbfe4ac4a51a22a280df17b901a9bafc88e0f2e58c6a7da"
   }
  }
 },
 "nbformat": 4,
 "nbformat_minor": 2
}
