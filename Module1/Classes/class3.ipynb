{
 "cells": [
  {
   "attachments": {},
   "cell_type": "markdown",
   "metadata": {},
   "source": [
    "# \n",
    "**<center><p style = 'font-size:30pt'> Classes </p></center>** "
   ]
  },
  {
   "attachments": {},
   "cell_type": "markdown",
   "metadata": {},
   "source": [
    "## **<p style = 'color: orange'> Class variables </p>**\n",
    "\n",
    "Class variables are shared among any instances of a class. They can be thought as global variables that every instance of a class has in common and does not change among the instances.\n",
    "\n",
    "\n",
    "        class Main():\n",
    "            \n",
    "            def __init__(self):\n",
    "                employee1 = Employee(\"Jacob\",\"Elordi\",5000)\n",
    "                print(employee1.fullname())\n",
    "\n",
    "                print(f'Initial payment: {employee1.pay}')\n",
    "                \n",
    "                employee1.applyRaise()\n",
    "\n",
    "                print(f'Raised salary: {employee1.pay}')\n",
    "\n",
    "\n",
    "        class Employee:\n",
    "\n",
    "            numberEmployees = 0\n",
    "            raiseAmount = 1.15\n",
    "\n",
    "            def __init__(self,name,lastName,pay):\n",
    "                self.name = name\n",
    "                self.lastName = lastName\n",
    "                self.pay = pay\n",
    "\n",
    "                numberEmployees += 1\n",
    "\n",
    "            def fullname(self):\n",
    "                return f'{self.name} {self.lastName}'\n",
    "\n",
    "            def applyRaise(self):\n",
    "                return self.pay * self.raiseAmount\n",
    "\n",
    "        if __name__ == \"__main__\":\n",
    "            Main()\n",
    "\n",
    "\n",
    "In the code above we define a class named `Employee`. Of course there will be some attributes corresponding toa specific Employee object but, it makes sense that the raise amount can be treated as a global variable, in this case, a class variable. `raiseAmount` will be apply to be 15% to every instance of the class `Employee`.\n",
    "\n",
    "Also the variable `numberEmployees` is a class variable. Note that is being updated in the `__init__` method. Remember that whenever creating an instance of a class **the `__init__` method is always called**, which allows to update the number of employees every time a new one is created.\n",
    "\n",
    "One very important aspect of dealing with class variables is accesing these variables via instances or classes. In the code above it is not possible to modify `raiseAmount` by doing `employee1.raiseAmount = 1.25`. This is because this way would be creating a new attribute to an object of class `Employee` (just like the attributes that are defined in the `__init__` method) rather than changing its value. The proper way to modify the value is using the *class*, hence `Employee.raiseAmount = 1.25`\n",
    "\n",
    "---"
   ]
  },
  {
   "attachments": {},
   "cell_type": "markdown",
   "metadata": {},
   "source": [
    "## **<p style = 'color: orange'> Class and static methods </p>**\n",
    "\n",
    "Regular methods take the instance of an object by default, but sometimes it is more handy to take the class as a whole. This is what class methods do\n",
    "\n",
    "        @classmethod\n",
    "        def setRaiseAmount(cls,amount):\n",
    "            cls.raiseAmount = amount\n",
    "\n",
    "A class method has to have the annotation `@classmethod` and also use a keyword to denote the class. The common practice is to use `cls` but rememeber this can be any word. In this case, the class method is useful to customize the value of the class variable `raiseAmount`. This is a better implementation since the user only has to call a methods and set the value they want, instead of coding it manually.\n",
    "\n",
    "Class methods can also be used as constructors. They allow to create objects as well. Let's say we have the following strings that we want to convert as `Employee` type:\n",
    "\n",
    "        employeeString1 = \"John-Maverick-7000\" \n",
    "        employeeString2 = \"Steve-Smith-5000\" \n",
    "        employeeString3 = \"Larry-Kane-6000\" \n",
    "\n",
    "\n",
    "The best practice is to create a method to parse those strings and convert them into employee objects, instead of letting the user to do it manually.\n",
    "\n",
    "        @classmethod\n",
    "        def fromString(cls,string):\n",
    "                name,lastName,pay = string.split(\"-\")\n",
    "                return cls(name,lastName,pay)\n",
    "\n",
    "\n",
    "\n",
    " \n",
    "         "
   ]
  },
  {
   "cell_type": "code",
   "execution_count": 2,
   "metadata": {},
   "outputs": [
    {
     "name": "stdout",
     "output_type": "stream",
     "text": [
      "0\n"
     ]
    }
   ],
   "source": [
    "print(0)"
   ]
  }
 ],
 "metadata": {
  "kernelspec": {
   "display_name": "Python 3",
   "language": "python",
   "name": "python3"
  },
  "language_info": {
   "codemirror_mode": {
    "name": "ipython",
    "version": 3
   },
   "file_extension": ".py",
   "mimetype": "text/x-python",
   "name": "python",
   "nbconvert_exporter": "python",
   "pygments_lexer": "ipython3",
   "version": "3.10.7"
  },
  "orig_nbformat": 4,
  "vscode": {
   "interpreter": {
    "hash": "530437c77c0ef3adadbfe4ac4a51a22a280df17b901a9bafc88e0f2e58c6a7da"
   }
  }
 },
 "nbformat": 4,
 "nbformat_minor": 2
}
