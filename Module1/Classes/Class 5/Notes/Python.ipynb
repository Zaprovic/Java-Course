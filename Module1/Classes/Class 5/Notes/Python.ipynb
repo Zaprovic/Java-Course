{
 "cells": [
  {
   "attachments": {},
   "cell_type": "markdown",
   "metadata": {},
   "source": [
    "# **<span style=\"color:brown\">Inheritance in Python</span>**"
   ]
  }
 ],
 "metadata": {
  "kernelspec": {
   "display_name": "Python 3",
   "language": "python",
   "name": "python3"
  },
  "language_info": {
   "name": "python",
   "version": "3.10.9 (tags/v3.10.9:1dd9be6, Dec  6 2022, 20:01:21) [MSC v.1934 64 bit (AMD64)]"
  },
  "orig_nbformat": 4,
  "vscode": {
   "interpreter": {
    "hash": "74c377c7c7251c72a5b33cef2d0cdc86136bea078352d32db4f4cd089ea7b646"
   }
  }
 },
 "nbformat": 4,
 "nbformat_minor": 2
}
