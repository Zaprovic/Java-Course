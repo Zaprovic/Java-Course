{
 "cells": [
  {
   "attachments": {},
   "cell_type": "markdown",
   "metadata": {},
   "source": [
    "# \n",
    "**<center><p style = 'font-size:30pt'> Inheritance </p></center>** \n"
   ]
  },
  {
   "cell_type": "markdown",
   "metadata": {},
   "source": [
    "\n",
    "Inheritance is a very useful way to implement the methods and fields of some class to others than derive from it, in other words, to *inherit information*, so we don't have to declare again and again all the same variables every time creating a new class"
   ]
  },
  {
   "cell_type": "code",
   "execution_count": 77,
   "metadata": {},
   "outputs": [],
   "source": [
    "class Main:\n",
    "\n",
    "    def __init__(self):\n",
    "        print('Driver class\\n')\n",
    "\n",
    "        dev1 = Employee('James','Knight',5000)\n",
    "        dev2 = Employee('Kendall','Schmidt',6000)\n",
    "\n",
    "        print(dev1.pay)\n",
    "\n",
    "class Employee:\n",
    "\n",
    "    raiseAmount = 1.15\n",
    "\n",
    "    def __init__(self,name,lastName,pay):\n",
    "        self.name = name\n",
    "        self.lastName = lastName\n",
    "        self.pay = pay\n",
    "\n",
    "\n",
    "    def fullname(self):\n",
    "        return f'{self.name} {self.lastName}'\n",
    "\n",
    "    def applyRaise(self):\n",
    "        return self.pay * self.raiseAmount\n"
   ]
  },
  {
   "attachments": {},
   "cell_type": "markdown",
   "metadata": {},
   "source": [
    "Let's say we have the code above, with a class of `Employee`. There are many types of employees in a company, if is a tech one, then there could be developers and managers. These are good candidates for making *child classes*"
   ]
  },
  {
   "cell_type": "code",
   "execution_count": 78,
   "metadata": {},
   "outputs": [
    {
     "name": "stdout",
     "output_type": "stream",
     "text": [
      "Driver class\n",
      "\n",
      "5000\n",
      "Help on class Developer in module __main__:\n",
      "\n",
      "class Developer(Employee)\n",
      " |  Developer(name, lastName, pay)\n",
      " |  \n",
      " |  Method resolution order:\n",
      " |      Developer\n",
      " |      Employee\n",
      " |      builtins.object\n",
      " |  \n",
      " |  Methods inherited from Employee:\n",
      " |  \n",
      " |  __init__(self, name, lastName, pay)\n",
      " |      Initialize self.  See help(type(self)) for accurate signature.\n",
      " |  \n",
      " |  applyRaise(self)\n",
      " |  \n",
      " |  fullname(self)\n",
      " |  \n",
      " |  ----------------------------------------------------------------------\n",
      " |  Data descriptors inherited from Employee:\n",
      " |  \n",
      " |  __dict__\n",
      " |      dictionary for instance variables (if defined)\n",
      " |  \n",
      " |  __weakref__\n",
      " |      list of weak references to the object (if defined)\n",
      " |  \n",
      " |  ----------------------------------------------------------------------\n",
      " |  Data and other attributes inherited from Employee:\n",
      " |  \n",
      " |  raiseAmount = 1.15\n",
      "\n",
      "None\n"
     ]
    }
   ],
   "source": [
    "class Developer(Employee):\n",
    "        pass\n",
    "\n",
    "class Manager(Employee):\n",
    "    pass\n",
    "\n",
    "\n",
    "main = Main()\n",
    "print(help(Developer))"
   ]
  },
  {
   "attachments": {},
   "cell_type": "markdown",
   "metadata": {},
   "source": [
    "Just by inherting a class to another, all of the methods and attributes of the parent class are also inherited, so there is no need to declare again the field of `name`, `lastName` and `pay`; and also the methods of `fullname()` and `applyRaise()` and others.\n",
    "\n",
    "But now let's say we want to customize the `raiseAmount` value *just to one child class* without worrying of breaking the `Employee` objects created in the future. \n",
    "\n",
    "But most of the time we want to initialize the child classes with additional fields or attributes. For example, a `Developer` object can have an attribute like `programLanguage`. This will be exclusive to all the instances of the `Developer` class."
   ]
  },
  {
   "cell_type": "code",
   "execution_count": 79,
   "metadata": {},
   "outputs": [],
   "source": [
    "#Bad implementation\n",
    "\n",
    "class Developer(Employee):\n",
    "    def __init__(self,name,lastName,pay,programLanguage):\n",
    "        self.name = name\n",
    "        self.lastName = lastName\n",
    "        self.pay = pay\n",
    "        self.programLanguage = programLanguage"
   ]
  },
  {
   "attachments": {},
   "cell_type": "markdown",
   "metadata": {},
   "source": [
    "Notice that this is a very repetitive process that can be tedious if there are tenths of child classes inherited from `Employee`. They pro way to implement this is by using the `super().__init__(args)` method. Inside the initializer we pass all the arguments inherited from the parent class."
   ]
  },
  {
   "cell_type": "code",
   "execution_count": 80,
   "metadata": {},
   "outputs": [
    {
     "name": "stdout",
     "output_type": "stream",
     "text": [
      "{'name': 'James', 'lastName': 'Knight', 'pay': 5000, 'programLanguage': 'Java'}\n"
     ]
    }
   ],
   "source": [
    "#Better implementation\n",
    "\n",
    "class Developer(Employee):\n",
    "    def __init__(self,name,lastName,pay,programLanguage):\n",
    "        super().__init__(name,lastName,pay)\n",
    "        self.programLanguage = programLanguage\n",
    "    \n",
    "\n",
    "dev1 = Developer('James','Knight',5000,\"Java\")\n",
    "print(dev1.__dict__)"
   ]
  },
  {
   "attachments": {},
   "cell_type": "markdown",
   "metadata": {},
   "source": [
    "Another equivalent way would be using `Employee.__init__(self,name,lastName,pay)`. Both ways do the exact same thing. When passing `super()` inside the initializer, Python is recurring to the class from that child class is being inherited from"
   ]
  },
  {
   "attachments": {},
   "cell_type": "markdown",
   "metadata": {},
   "source": [
    "# **Java**"
   ]
  },
  {
   "attachments": {},
   "cell_type": "markdown",
   "metadata": {},
   "source": [
    "In Java, there are is a special class called `enum`. Which is commonly used to define a class with a list of constants. This can be declared as a separate public class inside a folder, or as a private method inside a class\n",
    "\n",
    "---\n",
    "\n",
    "        Week.java file\n",
    "\n",
    "        public enum Week{\n",
    "            MONDAY,TUESDAY,WEDNESDAY,THURSDAY,FRIDAY,SATURDAY,SUNDAY\n",
    "        }\n",
    "\n",
    "---\n",
    "\n",
    "\n",
    "        classWeek.java\n",
    "\n",
    "        public class classWeek{\n",
    "\n",
    "            private enum Week{\n",
    "                MONDAY,TUESDAY,WEDNESDAY,THURSDAY,FRIDAY,SATURDAY,SUNDAY\n",
    "            }\n",
    "\n",
    "            Week day;\n",
    "\n",
    "            public static void main(String[] args){\n",
    "                classWeek w1 = new classWeek();\n",
    "\n",
    "                w1.day = Week.TUESDAY;\n",
    "\n",
    "                System.out.println(w1.day);\n",
    "            }\n",
    "        }\n",
    "\n",
    "---\n",
    "\n",
    "Enums are classes, so they have some special predefined methods"
   ]
  },
  {
   "cell_type": "markdown",
   "metadata": {},
   "source": []
  }
 ],
 "metadata": {
  "kernelspec": {
   "display_name": "Python 3",
   "language": "python",
   "name": "python3"
  },
  "language_info": {
   "codemirror_mode": {
    "name": "ipython",
    "version": 3
   },
   "file_extension": ".py",
   "mimetype": "text/x-python",
   "name": "python",
   "nbconvert_exporter": "python",
   "pygments_lexer": "ipython3",
   "version": "3.10.9 (tags/v3.10.9:1dd9be6, Dec  6 2022, 20:01:21) [MSC v.1934 64 bit (AMD64)]"
  },
  "orig_nbformat": 4,
  "vscode": {
   "interpreter": {
    "hash": "74c377c7c7251c72a5b33cef2d0cdc86136bea078352d32db4f4cd089ea7b646"
   }
  }
 },
 "nbformat": 4,
 "nbformat_minor": 2
}
