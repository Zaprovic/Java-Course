{
 "cells": [
  {
   "attachments": {},
   "cell_type": "markdown",
   "metadata": {},
   "source": [
    "# Respuestas\n",
    "\n",
    "- (a) Cual es el peso del carro1\n",
    "  - El peso del carro 1 es el que esta por defecto, osea 1\n",
    "\n",
    "<br>\n",
    "\n",
    "- (b) Cual es el motor del carro3\n",
    "  - El motor del carro 3 es el que esta por defecto, es decir `None`\n",
    "\n",
    "<br>\n",
    "\n",
    "- (c) Cual es la marca del carro0\n",
    "  - En esta linea habra un error ya que no todos los parametros dentro del constructor de la clase `Carro` tienen un valor por defecto, se debe indicar por lo minimo el atributo `referencia`\n",
    "\n",
    "<br>\n",
    "\n",
    "- (d) Que imprime la linea 35\n",
    "  - Esta linea imprime `Sandero Stepway` ya que es el carro con el mayor peso entre los 3\n",
    "\n"
   ]
  }
 ],
 "metadata": {
  "kernelspec": {
   "display_name": "Python 3",
   "language": "python",
   "name": "python3"
  },
  "language_info": {
   "name": "python",
   "version": "3.10.7 (tags/v3.10.7:6cc6b13, Sep  5 2022, 14:08:36) [MSC v.1933 64 bit (AMD64)]"
  },
  "orig_nbformat": 4,
  "vscode": {
   "interpreter": {
    "hash": "530437c77c0ef3adadbfe4ac4a51a22a280df17b901a9bafc88e0f2e58c6a7da"
   }
  }
 },
 "nbformat": 4,
 "nbformat_minor": 2
}
