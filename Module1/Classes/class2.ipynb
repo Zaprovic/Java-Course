{
 "cells": [
  {
   "attachments": {},
   "cell_type": "markdown",
   "metadata": {},
   "source": [
    "# \n",
    "**<center><p style = 'font-size:30pt'> Object Oriented Programming: Python </p></center>** \n",
    "\n",
    "Java is definitely 100% a dedicated program to OOP. However, Python is also a good option, and the fundamentals of creating classes and objects work very similar on both languages.\n",
    "\n",
    "        class Main:\n",
    "\n",
    "            def __init__(self):\n",
    "                print('This is the main driver, in which everything is executed')\n",
    "\n",
    "\n",
    "        class Person:\n",
    "\n",
    "            def __init__(self,name,age,language,gender,nationality):\n",
    "                self.name = name\n",
    "                self.age = age\n",
    "                self.language = language\n",
    "                self.gender = gender\n",
    "                self.nationality = nationality\n",
    "\n",
    "        if __name__ == '__main__':\n",
    "            Main()\n",
    "\n",
    "\n",
    "\n",
    "The cleanest way to implement object oriented code with Python is to create a *Main* class. This is the driver code as in Java would be called, and is used to executed all the code. From there we can start creating our own classes, in this case there is a class named `Person`.\n",
    "\n",
    "In Java we can only declare fields, which allows to not using constructors. In Python whenever we create a field we must always asign a value to it, which means constructors have to be set every time. The way to do this is with the `__init__` method, which is exclusively reserved for the creation of constructors. The keyword `self` would be the analogous of `this` in Java, and has to be specified every time a new method is created (in Java this would not be necessary). Recall that this keyword is used to denote that what is being called in the method is the object. This keyword is very confusing the first time, but when used to it, it's extremely handy because it can simplify code significantly. \n",
    "\n",
    "        \n",
    "        class Main:\n",
    "\n",
    "            def __init__(self):\n",
    "                person1 = Person('Loki',16,'Old Norse','M','Icelandic')\n",
    "\n",
    "                person1.greeting()\n",
    "\n",
    "\n",
    "            class Person:\n",
    "\n",
    "                def __init__(self,name,age,language,gender,nationality):\n",
    "                    self.name = name\n",
    "                    self.age = age\n",
    "                    self.language = language\n",
    "                    self.gender = gender\n",
    "                    self.nationality = nationality\n",
    "\n",
    "                        \n",
    "                def greeting(self):\n",
    "                    print(f\"Hello! My name is {self.name}\")\n",
    "\n",
    "\n",
    "        if __name__ == '__main__':\n",
    "            Main()\n",
    "\n",
    "The method `greeting()` prints a standard greeting in the console. Note that inside there is the keyword `self`, used to denote that the name being passed corresponds to the object declared as a `Person`. If we don't use the keyword, then the method would not be able to identify to whom is the `name` variable being attributed to. \n",
    "\n",
    "Notice that `self` is not technically a keyword, because we can assign it whatever name we want. The only thing to keep in mind is that the first argument passed in the `__init__` method will always be the initializer of the objects (which is what we have been calling `self` this whole time)\n",
    "\n",
    "    \n",
    "\n"
   ]
  },
  {
   "cell_type": "code",
   "execution_count": 1,
   "metadata": {},
   "outputs": [
    {
     "name": "stdout",
     "output_type": "stream",
     "text": [
      "0\n"
     ]
    }
   ],
   "source": [
    "print(0)"
   ]
  },
  {
   "cell_type": "markdown",
   "metadata": {},
   "source": []
  }
 ],
 "metadata": {
  "kernelspec": {
   "display_name": "Python 3",
   "language": "python",
   "name": "python3"
  },
  "language_info": {
   "codemirror_mode": {
    "name": "ipython",
    "version": 3
   },
   "file_extension": ".py",
   "mimetype": "text/x-python",
   "name": "python",
   "nbconvert_exporter": "python",
   "pygments_lexer": "ipython3",
   "version": "3.10.7"
  },
  "orig_nbformat": 4,
  "vscode": {
   "interpreter": {
    "hash": "530437c77c0ef3adadbfe4ac4a51a22a280df17b901a9bafc88e0f2e58c6a7da"
   }
  }
 },
 "nbformat": 4,
 "nbformat_minor": 2
}
